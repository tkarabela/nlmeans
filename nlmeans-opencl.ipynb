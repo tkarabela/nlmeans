{
 "metadata": {
  "name": "",
  "signature": "sha256:d8717b206e32facb093baea628850eae8a429f3cc92b97b0e8eb4e8fe501ee37"
 },
 "nbformat": 3,
 "nbformat_minor": 0,
 "worksheets": [
  {
   "cells": [
    {
     "cell_type": "code",
     "collapsed": false,
     "input": [
      "import numpy as np\n",
      "import pyopencl as cl\n",
      "from PIL import Image\n",
      "%load_ext pyopencl.ipython_ext\n",
      "import IPython.display\n",
      "import io"
     ],
     "language": "python",
     "metadata": {},
     "outputs": []
    },
    {
     "cell_type": "code",
     "collapsed": false,
     "input": [
      "ctx = cl.create_some_context(interactive=True)\n",
      "queue = cl.CommandQueue(ctx)"
     ],
     "language": "python",
     "metadata": {},
     "outputs": []
    },
    {
     "cell_type": "code",
     "collapsed": false,
     "input": [
      "def make_mask(n, a=1.0):\n",
      "    c = n//2\n",
      "    mask = np.empty((n,n))\n",
      "\n",
      "    for x in range(n):\n",
      "        for y in range(n):\n",
      "            mask[x,y] = np.exp(-((x-c)**2 + (y-c)**2) / a**2)\n",
      "\n",
      "    return mask / mask.sum()\n",
      "\n",
      "make_mask(3).astype(np.float32)"
     ],
     "language": "python",
     "metadata": {},
     "outputs": []
    },
    {
     "cell_type": "code",
     "collapsed": false,
     "input": [
      "ax, sx = 4, 2\n",
      "\n",
      "with open(\"nlmeans.cl\") as fp:\n",
      "    CODE = \"\"\"#define AX {ax}\n",
      "              #define AY {ax}\n",
      "              #define SX {sx}\n",
      "              #define SY {sx}\n",
      "              \"\"\".format(ax=ax, sx=sx) + fp.read()\n",
      "\n",
      "prg = cl.Program(ctx, CODE).build()\n",
      "\n",
      "img = Image.open(\"lena.jpg\")\n",
      "data = np.asarray(img.convert(\"L\")).astype(np.float32)\n",
      "mask = make_mask(2*3+1, a=1).astype(np.float32)\n",
      "output = np.empty_like(data)\n",
      "rows, cols = data.shape\n",
      "h = 15.0\n",
      "\n",
      "BLOCKS = 64\n",
      "THREADS_PER_BLOCK = 64\n",
      "\n",
      "mf = cl.mem_flags\n",
      "data_g = cl.Buffer(ctx, mf.READ_ONLY | mf.COPY_HOST_PTR, hostbuf=data)\n",
      "mask_g = cl.Buffer(ctx, mf.READ_ONLY | mf.COPY_HOST_PTR, hostbuf=mask)\n",
      "output_g = cl.Buffer(ctx, mf.WRITE_ONLY, data.nbytes)\n",
      "\n",
      "args = [data_g, output_g, mask_g, np.int32(rows), np.int32(cols), np.float32(h)]\n",
      "%time prg.NLMeans_kernel(queue, (BLOCKS,), (THREADS_PER_BLOCK,), *args, g_times_l=True); cl.enqueue_copy(queue, output, output_g)\n",
      "\n",
      "im = Image.fromarray(output.astype(np.uint8))\n",
      "buf = io.BytesIO(); im.save(buf, \"png\"); IPython.display.Image(buf.getvalue())"
     ],
     "language": "python",
     "metadata": {},
     "outputs": []
    },
    {
     "cell_type": "code",
     "collapsed": false,
     "input": [
      "im = Image.fromarray(((1-mask)*255.0).astype(np.uint8))\n",
      "buf = io.BytesIO(); im.save(buf, \"png\"); IPython.display.Image(buf.getvalue())"
     ],
     "language": "python",
     "metadata": {},
     "outputs": []
    },
    {
     "cell_type": "code",
     "collapsed": false,
     "input": [
      "from nlmeans import NLMeans\n",
      "\n",
      "nl = NLMeans(ctx)\n",
      "nl.setA(3.49)\n",
      "\n",
      "img = Image.open(\"lena.jpg\")\n",
      "data = np.asarray(img.convert(\"L\")).astype(np.float32)\n",
      "\n",
      "output = nl.processImage(data)\n",
      "\n",
      "im = Image.fromarray(output.astype(np.uint8))\n",
      "buf = io.BytesIO(); im.save(buf, \"png\"); IPython.display.Image(buf.getvalue())"
     ],
     "language": "python",
     "metadata": {},
     "outputs": []
    }
   ],
   "metadata": {}
  }
 ]
}